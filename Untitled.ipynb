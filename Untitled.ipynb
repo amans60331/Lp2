{
 "cells": [
  {
   "cell_type": "code",
   "execution_count": 2,
   "id": "676cb7c3",
   "metadata": {},
   "outputs": [
    {
     "ename": "ImportError",
     "evalue": "cannot import name 'chatbot' from 'chatterbot' (/home/tecomp/.local/lib/python3.8/site-packages/chatterbot/__init__.py)",
     "output_type": "error",
     "traceback": [
      "\u001b[0;31m---------------------------------------------------------------------------\u001b[0m",
      "\u001b[0;31mImportError\u001b[0m                               Traceback (most recent call last)",
      "Input \u001b[0;32mIn [2]\u001b[0m, in \u001b[0;36m<cell line: 1>\u001b[0;34m()\u001b[0m\n\u001b[0;32m----> 1\u001b[0m \u001b[38;5;28;01mfrom\u001b[39;00m \u001b[38;5;21;01mchatterbot\u001b[39;00m \u001b[38;5;28;01mimport\u001b[39;00m chatbot\n",
      "\u001b[0;31mImportError\u001b[0m: cannot import name 'chatbot' from 'chatterbot' (/home/tecomp/.local/lib/python3.8/site-packages/chatterbot/__init__.py)"
     ]
    }
   ],
   "source": [
    "from chatterbot import chatbot"
   ]
  },
  {
   "cell_type": "code",
   "execution_count": null,
   "id": "6285731b",
   "metadata": {},
   "outputs": [],
   "source": [
    "l=['What is your name','Which course you want','What is the cost of that course','Which university you want?']\n",
    "l2=['Shashank','Data structure','400/-','Harward']"
   ]
  }
 ],
 "metadata": {
  "kernelspec": {
   "display_name": "Python 3 (ipykernel)",
   "language": "python",
   "name": "python3"
  },
  "language_info": {
   "codemirror_mode": {
    "name": "ipython",
    "version": 3
   },
   "file_extension": ".py",
   "mimetype": "text/x-python",
   "name": "python",
   "nbconvert_exporter": "python",
   "pygments_lexer": "ipython3",
   "version": "3.8.10"
  }
 },
 "nbformat": 4,
 "nbformat_minor": 5
}
