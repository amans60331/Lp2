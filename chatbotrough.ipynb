{
 "cells": [
  {
   "cell_type": "code",
   "execution_count": null,
   "id": "343e08d3",
   "metadata": {},
   "outputs": [],
   "source": [
    "import random\n",
    "print(\"bot; what do you want me to call you\")\n",
    "user_name = input()\n"
   ]
  },
  {
   "cell_type": "code",
   "execution_count": null,
   "id": "99668d3e",
   "metadata": {},
   "outputs": [],
   "source": [
    "bot name = \"wizard\"\n",
    "name = \"aman\"\n",
    "phone number = \"9826789765\"\n"
   ]
  }
 ],
 "metadata": {
  "kernelspec": {
   "display_name": "Python 3 (ipykernel)",
   "language": "python",
   "name": "python3"
  },
  "language_info": {
   "codemirror_mode": {
    "name": "ipython",
    "version": 3
   },
   "file_extension": ".py",
   "mimetype": "text/x-python",
   "name": "python",
   "nbconvert_exporter": "python",
   "pygments_lexer": "ipython3",
   "version": "3.9.2"
  }
 },
 "nbformat": 4,
 "nbformat_minor": 5
}
