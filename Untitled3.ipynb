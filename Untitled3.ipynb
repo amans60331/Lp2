{
 "cells": [
  {
   "cell_type": "code",
   "execution_count": 1,
   "id": "e976ec12",
   "metadata": {},
   "outputs": [],
   "source": [
    "import pandas as pd\n",
    "import numpy as np\n",
    "import nltk\n",
    "from nltk.chat.util import Chat,reflections"
   ]
  },
  {
   "cell_type": "code",
   "execution_count": 2,
   "id": "cdc8cfaa",
   "metadata": {},
   "outputs": [],
   "source": [
    "reflections = {\n",
    "  \"i am\"       : \"you are\",\n",
    "  \"i was\"      : \"you were\",\n",
    "  \"i\"          : \"you\",\n",
    "  \"i'm\"        : \"you are\",\n",
    "  \"i'd\"        : \"you would\",\n",
    "  \"i've\"       : \"you have\",\n",
    "  \"i'll\"       : \"you will\",\n",
    "  \"my\"         : \"your\",\n",
    "  \"you are\"    : \"I am\",\n",
    "  \"you were\"   : \"I was\",\n",
    "  \"you've\"     : \"I have\",\n",
    "  \"you'll\"     : \"I will\",\n",
    "  \"your\"       : \"my\",\n",
    "  \"yours\"      : \"mine\",\n",
    "  \"you\"        : \"me\",\n",
    "  \"me\"         : \"you\"\n",
    "}"
   ]
  },
  {
   "cell_type": "code",
   "execution_count": null,
   "id": "9af8cbea",
   "metadata": {},
   "outputs": [
    {
     "name": "stdout",
     "output_type": "stream",
     "text": [
      "Please ask me a Question?\n",
      ">Where we have to apply for cap rounds?\n",
      "It is available on mhtcet dbt website.\n",
      ">Top three colleges \n",
      "None\n",
      ">What are the top 3 colleges come under MHT-CET\n",
      "PICT,COEP,VJTI\n",
      ">How many rounds are there in MHT CET?\n",
      "There will be 3 MHT CET counselling rounds. The minimum cut off of every college and courses offered there could be varied. You can check previous years cut off to get an idea about the same and can apply easily according to that.\n"
     ]
    }
   ],
   "source": [
    "pairs = [\n",
    "    [\n",
    "        r\"my name is (.*)\",\n",
    "        [\"Hello %1, How are you today ?\",]\n",
    "    ],\n",
    "    [\n",
    "        r\"hi|hey|hello\",\n",
    "        [\"Hello\", \"Hey there\",]\n",
    "    ], \n",
    "    [\n",
    "        r\"what is your name ?\",\n",
    "        [\"I am a chatbot created by PICT to help freshers\",]\n",
    "    ],\n",
    "    [\n",
    "        r\"how are you ?\",\n",
    "        [\"I'm doing goodnHow about You ?\",]\n",
    "    ],\n",
    "    [\n",
    "        r\"What is the admission process after MHT CET Result?\",\n",
    "        [\"The steps which are included in the MHT CET counselling are Document Verification, Display of Provisional Merit List, Display of final Merit List, Display of Category-Wise Seats, Filling online CAP form, choice filling, provisional allotment & reporting\"\n",
    "         ,]\n",
    "    ],\n",
    "    [\n",
    "        r\"How can I take admission in MHT CET?\",\n",
    "        [\"Candidates must have passed B.Sc. Degree from a recognized university with at least 45% aggregate marks (for General category) and at least 40% aggregate marks (for backward class/ Persons with Disability belonging to Maharashtra State only). These candidates should have passed XII class with Mathematics as a subject\",]\n",
    "    ],\n",
    "    [\n",
    "        r\"What is the minimum marks to qualify in CET?\",\n",
    "        [\"A candidate must have passed 12th with PCM/PCB with a minimum aggregate of 45% marks (40% for reserved category)\",]\n",
    "    ],\n",
    "    [\n",
    "        r\"What are the top 3 colleges come under MHT-CET\",\n",
    "        [\"PICT,COEP,VJTI\",]\n",
    "    ],\n",
    "    [\n",
    "        r\"How many times a candidate can appear for MHT CET?\",\n",
    "        [\"Number of attempts: You can only attempt MHT-CET 3 times.\",]\n",
    "    ],\n",
    "    [\n",
    "        r\"How can I get admission after MHT CET 2021?\",\n",
    "        [\"Qualified candidates have to participate in the counselling and seat allotment of MHT CET 2021 is being conducted as a Centralized Admission Process (CAP). Candidates have to fill out their choice of colleges and courses in the order of preference.\",]\n",
    "    ],\n",
    "    [\n",
    "        r\"How many rounds are there in MHT CET?\",\n",
    "        [\"There will be 3 MHT CET counselling rounds. The minimum cut off of every college and courses offered there could be varied. You can check previous years cut off to get an idea about the same and can apply easily according to that.\",]\n",
    "    ],\n",
    "    [\n",
    "        r\"Where we have to apply for cap rounds?\",\n",
    "        [\"It is available on mhtcet dbt website.\",]\n",
    "    ],\n",
    "    [\n",
    "        r\"quit\",\n",
    "        [\"BBye take care. See you soon :) \",\"It was nice talking to you. See you soon :)\"]\n",
    "    ],\n",
    "]\n",
    "def chat():\n",
    "\tprint(\"Ask me any questions about MHT-CET admission process?\")\n",
    "\tchat=Chat(pairs,reflections)\n",
    "\tchat.converse()\n",
    "if __name__==\"__main__\":\n",
    "\tchat()"
   ]
  },
  {
   "cell_type": "code",
   "execution_count": null,
   "id": "945029fb",
   "metadata": {},
   "outputs": [],
   "source": []
  }
 ],
 "metadata": {
  "kernelspec": {
   "display_name": "Python 3 (ipykernel)",
   "language": "python",
   "name": "python3"
  },
  "language_info": {
   "codemirror_mode": {
    "name": "ipython",
    "version": 3
   },
   "file_extension": ".py",
   "mimetype": "text/x-python",
   "name": "python",
   "nbconvert_exporter": "python",
   "pygments_lexer": "ipython3",
   "version": "3.8.10"
  }
 },
 "nbformat": 4,
 "nbformat_minor": 5
}
